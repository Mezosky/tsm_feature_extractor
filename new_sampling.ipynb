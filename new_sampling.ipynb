{
 "cells": [
  {
   "cell_type": "code",
   "execution_count": 1,
   "id": "81e34a04",
   "metadata": {},
   "outputs": [],
   "source": [
    "import numpy as np\n",
    "import torch\n",
    "import pandas as pd"
   ]
  },
  {
   "cell_type": "code",
   "execution_count": 2,
   "id": "7cffe150",
   "metadata": {},
   "outputs": [],
   "source": [
    "# Add decord to read videos and not images\n",
    "from decord import VideoReader\n",
    "from decord import cpu, gpu\n",
    "import decord\n",
    "\n",
    "decord.bridge.set_bridge('torch')"
   ]
  },
  {
   "cell_type": "code",
   "execution_count": 3,
   "id": "ba696673",
   "metadata": {},
   "outputs": [],
   "source": [
    "video_path = \"/data/imeza/ActivityNet/test_videos/v_te1znGPS_Vw.mp4\"\n",
    "\n",
    "vr = VideoReader(video_path, ctx=cpu(0))"
   ]
  },
  {
   "cell_type": "code",
   "execution_count": 4,
   "id": "5e0f1d15",
   "metadata": {},
   "outputs": [],
   "source": [
    "def _get_test_indices(start_frame, end_frame, new_length, num_segments):\n",
    "    tick = (end_frame - new_length + 1) / float(num_segments)\n",
    "    offsets = np.array([int(tick / 2.0 + tick * x) + start_frame for x in range(num_segments)])\n",
    "    return offsets"
   ]
  },
  {
   "cell_type": "code",
   "execution_count": 5,
   "id": "44f01785",
   "metadata": {},
   "outputs": [],
   "source": [
    "def _get_all_indices_list(total_frames, num_frames):\n",
    "\n",
    "    idx_list = list()\n",
    "    list_frames = range(0, total_frames, num_frames*num_frames)\n",
    "    sum_indices = _get_test_indices(0, num_frames*num_frames, 1, 8)\n",
    "    \n",
    "    for idx, frames in enumerate(list_frames): \n",
    "        \n",
    "        if idx == 0:\n",
    "            sampled_frames = sum_indices + frames\n",
    "            idx_list.append(sampled_frames)\n",
    "        else:\n",
    "            sampled_frames = sum_indices + frames\n",
    "            if sum(total_frames < sampled_frames) > 0:\n",
    "                pass\n",
    "            else:\n",
    "                idx_list.append(sampled_frames)\n",
    "    \n",
    "    return idx_list"
   ]
  },
  {
   "cell_type": "code",
   "execution_count": 6,
   "id": "957967a3",
   "metadata": {},
   "outputs": [
    {
     "data": {
      "text/plain": [
       "1"
      ]
     },
     "execution_count": 6,
     "metadata": {},
     "output_type": "execute_result"
    }
   ],
   "source": [
    "test = {\"a\":1}\n",
    "test[\"a\"]"
   ]
  },
  {
   "cell_type": "code",
   "execution_count": 7,
   "id": "dee1e4d4",
   "metadata": {},
   "outputs": [],
   "source": [
    "def _cache_batch(frames_list):\n",
    "    \n",
    "    count = 0\n",
    "    i = 0\n",
    "    output_list = list()\n",
    "    aux_list = list()\n",
    "    idx_frame_list = list()\n",
    "    for idx, batch in enumerate(frames_list):\n",
    "        \n",
    "        count += len(batch)\n",
    "        aux_list.extend(batch)\n",
    "        idx_frame_list.append(idx)\n",
    "        \n",
    "        if count == 400:\n",
    "            output_list.append(\n",
    "                (i,\n",
    "                 np.array(aux_list), \n",
    "                 np.array(idx_frame_list)\n",
    "                )\n",
    "            )\n",
    "            count = 0\n",
    "            aux_list = list()\n",
    "            idx_frame_list = list()\n",
    "            i += 1\n",
    "    \n",
    "    if count < 400 and len(aux_list) != 0:\n",
    "        output_list.append(\n",
    "            (i, \n",
    "             np.array(aux_list), \n",
    "             np.array(idx_frame_list)\n",
    "            )\n",
    "        )\n",
    "\n",
    "    return output_list"
   ]
  },
  {
   "cell_type": "code",
   "execution_count": 8,
   "id": "772bb97e",
   "metadata": {},
   "outputs": [],
   "source": [
    "idx_list   = _get_all_indices_list(len(vr), 8)\n",
    "cache_list = _cache_batch(idx_list)"
   ]
  },
  {
   "cell_type": "code",
   "execution_count": 16,
   "id": "28d0bee9",
   "metadata": {},
   "outputs": [],
   "source": [
    "loaded_frames = None\n",
    "cache_loaded  = None"
   ]
  },
  {
   "cell_type": "code",
   "execution_count": 52,
   "id": "998d68e8",
   "metadata": {},
   "outputs": [],
   "source": [
    "q_frame = 52"
   ]
  },
  {
   "cell_type": "code",
   "execution_count": 26,
   "id": "d0a4790b",
   "metadata": {},
   "outputs": [],
   "source": [
    "# check and load frames (esto debería estar en un getitem)\n",
    "if loaded_frames == None:\n",
    "    for idx, cache in enumerate(cache_list):\n",
    "        if q_frame in cache[2]:\n",
    "            print(f\"Loading frames by idx: {idx}\")\n",
    "            # estos dos deberían ser selfs\n",
    "            loaded_frames = vr.get_batch(cache[1])\n",
    "            cache_loaded  = cache\n",
    "            break\n",
    "        else:\n",
    "            print(\"Out of range\")\n",
    "elif q_frame in cache_loaded[2]:\n",
    "    print(f\"Using cache\")\n",
    "elif q_frame not in cache_loaded[2]:\n",
    "    "
   ]
  },
  {
   "cell_type": "code",
   "execution_count": 53,
   "id": "36c79150",
   "metadata": {},
   "outputs": [
    {
     "data": {
      "text/plain": [
       "array([[0., 0.],\n",
       "       [0., 0.],\n",
       "       [0., 0.]])"
      ]
     },
     "execution_count": 53,
     "metadata": {},
     "output_type": "execute_result"
    }
   ],
   "source": [
    "cache_loaded"
   ]
  },
  {
   "cell_type": "code",
   "execution_count": 57,
   "id": "d7183557",
   "metadata": {},
   "outputs": [
    {
     "data": {
      "text/plain": [
       "[1, 2, 3]"
      ]
     },
     "execution_count": 57,
     "metadata": {},
     "output_type": "execute_result"
    }
   ],
   "source": [
    "list_a = [1, 2, 3, 4]\n",
    "list_a.remove(4)\n",
    "list_a"
   ]
  },
  {
   "cell_type": "code",
   "execution_count": 51,
   "id": "c535688a",
   "metadata": {},
   "outputs": [],
   "source": [
    "idx = 0\n",
    "cache_loaded = np.zeros((3,2))\n",
    "while \n",
    "    if q_frame in cache_list[idx][2]:\n",
    "        print(f\"Loading frames by idx: {idx}\")\n",
    "        loaded_frames = vr.get_batch(cache_list[idx][1])\n",
    "        cache_loaded  = cache_list[idx]\n",
    "    idx += 1"
   ]
  },
  {
   "cell_type": "code",
   "execution_count": 22,
   "id": "918131b5",
   "metadata": {},
   "outputs": [],
   "source": [
    "# transformar esta parte de arriba en diccionario\n",
    "min_index = int(np.where(cache_loaded[1] == idx_list[q_frame].min())[0])\n",
    "max_index = int(np.where(cache_loaded[1] == idx_list[q_frame].max())[0])+1"
   ]
  },
  {
   "cell_type": "code",
   "execution_count": 23,
   "id": "71e0a32b",
   "metadata": {},
   "outputs": [
    {
     "data": {
      "text/plain": [
       "torch.Size([8, 720, 1280, 3])"
      ]
     },
     "execution_count": 23,
     "metadata": {},
     "output_type": "execute_result"
    }
   ],
   "source": [
    "loaded_frames[min_index: max_index].shape"
   ]
  }
 ],
 "metadata": {
  "kernelspec": {
   "display_name": "Python 3 (ipykernel)",
   "language": "python",
   "name": "python3"
  },
  "language_info": {
   "codemirror_mode": {
    "name": "ipython",
    "version": 3
   },
   "file_extension": ".py",
   "mimetype": "text/x-python",
   "name": "python",
   "nbconvert_exporter": "python",
   "pygments_lexer": "ipython3",
   "version": "3.10.4"
  }
 },
 "nbformat": 4,
 "nbformat_minor": 5
}
